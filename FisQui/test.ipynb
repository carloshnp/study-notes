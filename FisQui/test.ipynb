{
 "cells": [
  {
   "cell_type": "markdown",
   "metadata": {},
   "source": [
    "$$\n",
    "\\begin{gather}\n",
    "    \\begin{align}\n",
    "        & [A] + [B] \\rightarrow \\text{produto} \\\\\n",
    "        & \\frac{dP}{dt} = K[A][B] \\\\\n",
    "        & \\frac{dx}{dt} = K(a - x)(b - x) \\\\\n",
    "        & \\frac{dx}{(a-x)(b-x)} = Kdt \\\\\n",
    "        & \\int_{0}^{x} \\frac{dx}{(a-x)(b-x)} = \\int_{0}^{t} Kdt \\\\\n",
    "        & \\frac{1}{b-a} \\left( \\ln \\left( \\frac{a}{a-x} \\right) - \\ln \\left( \\frac{b}{b-x} \\right)   \\right) = Kt\n",
    "    \\end{align}\n",
    "\\end{gather}\n",
    "$$"
   ]
  }
 ],
 "metadata": {
  "kernelspec": {
   "display_name": "Python 3",
   "language": "python",
   "name": "python3"
  },
  "language_info": {
   "name": "python",
   "version": "3.11.4"
  }
 },
 "nbformat": 4,
 "nbformat_minor": 2
}
